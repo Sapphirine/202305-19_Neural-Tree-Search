{
 "cells": [
  {
   "cell_type": "code",
   "execution_count": null,
   "metadata": {},
   "outputs": [],
   "source": [
    "import os \n",
    "from PIL import Image, ImageSequence\n"
   ]
  },
  {
   "cell_type": "code",
   "execution_count": null,
   "metadata": {},
   "outputs": [],
   "source": [
    "def generate_epoch_gif(epoch, experiment='exp3', ee=1, gif_path='/home/fangbowen/gif/', custom_name='bst'):\n",
    "    figs_path = f'/home/fangbowen/Neural-Tree-Search/tmp/dump/{experiment}/episodes/{epoch}/{ee}'\n",
    "    figs = os.listdir(figs_path)\n",
    "    figs = sorted(figs, key=lambda x: int(x[x.index('s-')+2: x.index('.')]))\n",
    "    images = []\n",
    "    for f in figs:\n",
    "        file_path = os.path.join(figs_path, f)\n",
    "        img = Image.open(file_path)\n",
    "        images.append(img)\n",
    "    # # Save the list of images as an animated GIF\n",
    "    _save_path = os.path.join(gif_path, f\"{custom_name}-{experiment}-{epoch}-{ee}.gif\")\n",
    "    images[0].save(_save_path,\n",
    "                save_all=True,\n",
    "                append_images=images[1:],\n",
    "                duration=100,\n",
    "                loop=0)\n",
    "    return _save_path\n"
   ]
  },
  {
   "cell_type": "code",
   "execution_count": null,
   "metadata": {},
   "outputs": [],
   "source": [
    "generate_epoch_gif(1, experiment='nts4_eval_img', ee=2)"
   ]
  },
  {
   "cell_type": "code",
   "execution_count": null,
   "metadata": {},
   "outputs": [],
   "source": []
  }
 ],
 "metadata": {
  "kernelspec": {
   "display_name": "habitat",
   "language": "python",
   "name": "python3"
  },
  "language_info": {
   "codemirror_mode": {
    "name": "ipython",
    "version": 3
   },
   "file_extension": ".py",
   "mimetype": "text/x-python",
   "name": "python",
   "nbconvert_exporter": "python",
   "pygments_lexer": "ipython3",
   "version": "3.9.16"
  },
  "orig_nbformat": 4
 },
 "nbformat": 4,
 "nbformat_minor": 2
}
